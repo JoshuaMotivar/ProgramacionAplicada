{
  "nbformat": 4,
  "nbformat_minor": 0,
  "metadata": {
    "colab": {
      "provenance": [],
      "include_colab_link": true
    },
    "kernelspec": {
      "name": "python3",
      "display_name": "Python 3"
    },
    "language_info": {
      "name": "python"
    }
  },
  "cells": [
    {
      "cell_type": "markdown",
      "metadata": {
        "id": "view-in-github",
        "colab_type": "text"
      },
      "source": [
        "<a href=\"https://colab.research.google.com/github/JoshuaMotivar/ProgramacionAplicada/blob/main/ClasesAtributosMetodos.ipynb\" target=\"_parent\"><img src=\"https://colab.research.google.com/assets/colab-badge.svg\" alt=\"Open In Colab\"/></a>"
      ]
    },
    {
      "cell_type": "code",
      "execution_count": null,
      "metadata": {
        "id": "sSjkVGdRKDKa"
      },
      "outputs": [],
      "source": [
        "class Book:\n",
        "    def __init__(self, title, quantity, author, price):\n",
        "      #__init__ se utiliza como constructor en Python\n",
        "      #self permite acceder al contenido de la clase\n",
        "\n",
        "        self.title = title\n",
        "        self.quantity = quantity\n",
        "        self.author = author\n",
        "        self.price = price\n",
        "        #Guarda el valor en el atributo del objeto"
      ]
    },
    {
      "cell_type": "code",
      "source": [
        "book1 = Book('Book 1', 12, 'Author 1', 120)\n",
        "book2 = Book('Book 2', 18, 'Author 2', 220)\n",
        "book3 = Book('Book 3', 28, 'Author 3', 320)"
      ],
      "metadata": {
        "id": "31wZAAmRR2fT"
      },
      "execution_count": null,
      "outputs": []
    },
    {
      "cell_type": "code",
      "source": [
        "print(book1)\n",
        "print(book2)\n",
        "print(book3)\n",
        "#Solo nos da la información del guardado de la información"
      ],
      "metadata": {
        "id": "AdQdp_XWR3_s"
      },
      "execution_count": null,
      "outputs": []
    },
    {
      "cell_type": "code",
      "source": [
        "class Book:\n",
        "    def __init__(self, title, quantity, author, price):\n",
        "        self.title = title\n",
        "        self.quantity = quantity\n",
        "        self.author = author\n",
        "        self.price = price\n",
        "\n",
        "    def __repr__(self):\n",
        "        return f\"Book: {self.title}, Quantity: {self.quantity}, Author: {self.author}, Price: {self.price}\"\n",
        "        #__repr__ es el método utilizado para que la información se devuelva clara y tal cual ingresada\n",
        "\n",
        "\n",
        "book1 = Book('Sherlock Holmes', 12, 'Arthur Conan Doyle', 120)\n",
        "book2 = Book('La Melancolía de los Feos', 18, 'Mario Mendoza', 220)\n",
        "book3 = Book('Brevísima Historia del Tiempo', 28, 'Stephen Hawking', 320)\n",
        "\n",
        "print(book1)\n",
        "print(book2)\n",
        "print(book3)"
      ],
      "metadata": {
        "id": "5mzgQ2SDR9p8"
      },
      "execution_count": null,
      "outputs": []
    },
    {
      "cell_type": "code",
      "source": [
        "class Book:\n",
        "    def __init__(self, title, quantity, author, price):\n",
        "        self.title = title\n",
        "        self.quantity = quantity\n",
        "        self.author = author\n",
        "        self.price = price\n",
        "        self.__discount = 0.10\n",
        "        #Se agrega un nuevo atributo, y al llevar dos guiones bajos se hace privada\n",
        "\n",
        "    def __repr__(self):\n",
        "        return f\"Book: {self.title}, Quantity: {self.quantity}, Author: {self.author}, Price: {self.price}\"\n",
        "\n",
        "\n",
        "book1 = Book('Book 1', 12, 'Author 1', 120)\n",
        "\n",
        "print(book1.title)\n",
        "print(book1.quantity)\n",
        "print(book1.author)\n",
        "print(book1.price)\n",
        "print(book1.__discount)\n",
        "\n",
        "#Marca error ya que como se declaró privado, esta no es la manera de acceder a él"
      ],
      "metadata": {
        "id": "2whOQDAXSCyJ"
      },
      "execution_count": null,
      "outputs": []
    },
    {
      "cell_type": "code",
      "source": [
        "class Book:\n",
        "    def __init__(self, title, quantity, author, price):\n",
        "        self.title = title\n",
        "        self.quantity = quantity\n",
        "        self.author = author\n",
        "        self.__price = price\n",
        "        #Se privatiza el atributo price\n",
        "        self.__discount = None\n",
        "        #Se deja declarado el atributo privado\n",
        "\n",
        "    def set_discount(self, discount):\n",
        "        self.__discount = discount\n",
        "        #Método setter para acceder al atributo privado\n",
        "\n",
        "    def get_price(self):\n",
        "        if self.__discount:\n",
        "            return self.__price * (1-self.__discount)\n",
        "        return self.__price\n",
        "        #Método getter para acceder al atributo privado\n",
        "\n",
        "    def __repr__(self):\n",
        "        return f\"Book: {self.title}, Quantity: {self.quantity}, Author: {self.author}, Price: {self.get_price()}\"\n",
        "\n",
        "single_book = Book('Two States', 1, 'Chetan Bhagat', 200)\n",
        "#Se declara un único libro con sus atributos\n",
        "\n",
        "bulk_books = Book('Two States', 25, 'Chetan Bhagat', 200)\n",
        "bulk_books.set_discount(0.20)\n",
        "#Otra declaración de libro, pero sin empacar para aplicar el descuento\n",
        "\n",
        "print(single_book.get_price())\n",
        "#Precio del libro único\n",
        "\n",
        "print(bulk_books.get_price())\n",
        "#Precio del libro sin empacar\n",
        "\n",
        "print(single_book)\n",
        "#Atributos del libro único\n",
        "\n",
        "print(bulk_books)\n",
        "#Atributos del libro sin empacar"
      ],
      "metadata": {
        "id": "sEe0-J0gSD9h"
      },
      "execution_count": null,
      "outputs": []
    },
    {
      "cell_type": "code",
      "source": [
        "class Book:\n",
        "    def __init__(self, title, quantity, author, price):\n",
        "        self.title = title\n",
        "        self.quantity = quantity\n",
        "        self.author = author\n",
        "        self.__price = price\n",
        "        self.__discount = None\n",
        "\n",
        "    #Método para asignar descuento\n",
        "    def set_discount(self, discount):\n",
        "        self.__discount = discount\n",
        "\n",
        "    #Método para asignar el precio menos el descuento cuando lo haya\n",
        "    def get_price(self):\n",
        "        if self.__discount:\n",
        "            return self.__price * (1-self.__discount)\n",
        "        return self.__price\n",
        "\n",
        "    #Método para imprimir la información de cada libro de manera organizada\n",
        "    def __repr__(self):\n",
        "        return f\"Book: {self.title}, Quantity: {self.quantity}, Author: {self.author}, Price: {self.get_price()}\"\n",
        "\n",
        "\n",
        "class Novel(Book):\n",
        "    def __init__(self, title, quantity, author, price, pages):\n",
        "        super().__init__(title, quantity, author, price)\n",
        "        #super() es usado para la herencia de la clase book y no reescribir todos los métodos\n",
        "        self.pages = pages\n",
        "\n",
        "\n",
        "class Academic(Book):\n",
        "    def __init__(self, title, quantity, author, price, branch):\n",
        "        super().__init__(title, quantity, author, price)\n",
        "        self.branch = branch\n",
        "\n",
        "novel1 = Novel('Two States', 20, 'Chetan Bhagat', 200, 187)\n",
        "novel1.set_discount(0.20)\n",
        "\n",
        "academic1 = Academic('Python Foundations', 12, 'PSF', 655, 'IT')\n",
        "\n",
        "print(novel1)\n",
        "print(academic1)"
      ],
      "metadata": {
        "id": "mHhHrlyDSHI8"
      },
      "execution_count": null,
      "outputs": []
    },
    {
      "cell_type": "code",
      "source": [
        "class Academic(Book):\n",
        "    def __init__(self, title, quantity, author, price, branch):\n",
        "        super().__init__(title, quantity, author, price)\n",
        "        self.branch = branch\n",
        "\n",
        "    def __repr__(self):\n",
        "        return f\"Book: {self.title}, Branch: {self.branch}, Quantity: {self.quantity}, Author: {self.author}, Price: {self.get_price()}\"\n",
        "\n",
        "novel1 = Novel('Two States', 20, 'Chetan Bhagat', 200, 187)\n",
        "novel1.set_discount(0.20)\n",
        "\n",
        "academic1 = Academic('Python Foundations', 12, 'PSF', 655, 'IT')\n",
        "\n",
        "print(novel1)\n",
        "print(academic1)"
      ],
      "metadata": {
        "id": "II4jBKL0SLbN"
      },
      "execution_count": null,
      "outputs": []
    },
    {
      "cell_type": "code",
      "source": [
        "from abc import ABC, abstractmethod\n",
        "#Se usa para clases abstractas, en las que se declara una \"plantilla\" para otras clases hijas\n",
        "\n",
        "class Book(ABC):\n",
        "    def __init__(self, title, quantity, author, price):\n",
        "        self.title = title\n",
        "        self.quantity = quantity\n",
        "        self.author = author\n",
        "        self.__price = price\n",
        "        self.__discount = None\n",
        "\n",
        "    def set_discount(self, discount):\n",
        "        self.__discount = discount\n",
        "\n",
        "    def get_price(self):\n",
        "        if self.__discount:\n",
        "            return self.__price * (1-self.__discount)\n",
        "        return self.__price\n",
        "\n",
        "    @abstractmethod\n",
        "    #Define que todas las clases hijas de aqui, obligatoriamente toma este método\n",
        "    def __repr__(self):\n",
        "        return f\"Book: {self.title}, Quantity: {self.quantity}, Author: {self.author}, Price: {self.get_price()}\"\n",
        "\n",
        "\n",
        "class Novel(Book):\n",
        "    def __init__(self, title, quantity, author, price, pages):\n",
        "        super().__init__(title, quantity, author, price)\n",
        "        self.pages = pages\n",
        "    def __repr__(self):\n",
        "        return f\"Book: {self.title}, Quantity: {self.quantity}, Author: {self.author}, Price: {self.get_price()}\"\n",
        "\n",
        "\n",
        "class Academic(Book):\n",
        "    def __init__(self, title, quantity, author, price, branch):\n",
        "        super().__init__(title, quantity, author, price)\n",
        "        self.branch = branch\n",
        "\n",
        "    def __repr__(self):\n",
        "        return f\"Book: {self.title}, Branch: {self.branch}, Quantity: {self.quantity}, Author: {self.author}, Price: {self.get_price()}\"\n",
        "\n",
        "\n",
        "novel1 = Novel('Two States', 20, 'Chetan Bhagat', 200, 187)\n",
        "novel1.set_discount(0.20)\n",
        "\n",
        "academic1 = Academic('Python Foundations', 12, 'PSF', 655, 'IT')\n",
        "\n",
        "print(novel1)\n",
        "print(academic1)"
      ],
      "metadata": {
        "id": "mX2tC6ksSNfx"
      },
      "execution_count": null,
      "outputs": []
    },
    {
      "cell_type": "code",
      "source": [
        "class OverloadingDemo:\n",
        "    #def add(self, x, y):\n",
        "        #print(x+y)\n",
        "\n",
        "    def add(self, x, y, z):\n",
        "        print(x+y+z)\n",
        "\n",
        "    #Dependiendo de la cantidad de atributos se declaran dos métodos para sumar según los que se ingresen 3 líneas más abajo\n",
        "    #Se recomendaría cambiar el nombre de alguno de los métodos para evitar errores en el código\n",
        "\n",
        "obj = OverloadingDemo()\n",
        "obj.add(2, 3, 5)"
      ],
      "metadata": {
        "id": "tLUzkQHdSQqO"
      },
      "execution_count": null,
      "outputs": []
    },
    {
      "cell_type": "code",
      "source": [
        "class ParentClass:\n",
        "    def call_me(self):\n",
        "        print(\"I am parent class\")\n",
        "\n",
        "class ChildClass(ParentClass):\n",
        "    def call_me(self):\n",
        "        print(\"I am child class\")\n",
        "    #En esta clase el hecho de que herede es algo infructuosa, porque se reescribe el único método de ParentClass\n",
        "\n",
        "pobj = ParentClass()\n",
        "pobj.call_me()\n",
        "\n",
        "cobj = ChildClass()\n",
        "cobj.call_me()\n",
        "#Depende de a qué clase, si a la padre o a la hija, se imprime el método diferente"
      ],
      "metadata": {
        "id": "6Cck-8KBSSnI"
      },
      "execution_count": null,
      "outputs": []
    }
  ]
}