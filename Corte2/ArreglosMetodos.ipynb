{
  "nbformat": 4,
  "nbformat_minor": 0,
  "metadata": {
    "colab": {
      "provenance": [],
      "include_colab_link": true
    },
    "kernelspec": {
      "name": "python3",
      "display_name": "Python 3"
    },
    "language_info": {
      "name": "python"
    }
  },
  "cells": [
    {
      "cell_type": "markdown",
      "metadata": {
        "id": "view-in-github",
        "colab_type": "text"
      },
      "source": [
        "<a href=\"https://colab.research.google.com/github/JoshuaMotivar/ProgramacionAplicada/blob/main/ArreglosMetodos.ipynb\" target=\"_parent\"><img src=\"https://colab.research.google.com/assets/colab-badge.svg\" alt=\"Open In Colab\"/></a>"
      ]
    },
    {
      "cell_type": "code",
      "execution_count": null,
      "metadata": {
        "colab": {
          "base_uri": "https://localhost:8080/"
        },
        "id": "phAP8MC4DcHC",
        "outputId": "df5fb459-4b36-4b15-c046-30cc93eab237"
      },
      "outputs": [
        {
          "output_type": "execute_result",
          "data": {
            "text/plain": [
              "array([1, 2, 3])"
            ]
          },
          "metadata": {},
          "execution_count": 1
        }
      ],
      "source": [
        "import numpy as np\n",
        "\n",
        "sample_list = [1, 2, 3]\n",
        "\n",
        "np.array(sample_list)\n",
        "#Convierte la lista sample_past en un array numpy"
      ]
    },
    {
      "cell_type": "code",
      "source": [
        "my_vector = np.array(['this', 'is', 'a', 'vector'])\n",
        "#Asigna en array numpy a la variable \"my_vector\"\n",
        "\n",
        "my_matrix = [[1, 2, 3],[4, 5, 6],[7, 8, 9]]\n",
        "#Crea una matriz compuesta por 3 listas de 3 elementos\n",
        "\n",
        "np.array(my_matrix)\n",
        "#Convierte la matriz en array"
      ],
      "metadata": {
        "id": "fBtjPeImDpZr"
      },
      "execution_count": null,
      "outputs": []
    },
    {
      "cell_type": "code",
      "source": [
        "#Método arange\n",
        "\n",
        "np.arange(0,5)\n",
        "#Devuelve un arreglo con elementos ordenados del 0 al 4"
      ],
      "metadata": {
        "id": "2Pyw8tCADrPr"
      },
      "execution_count": null,
      "outputs": []
    },
    {
      "cell_type": "code",
      "source": [
        "np.arange(1,11,2)\n",
        "#Devuelve un arreglo con elementos del 1 al 10 con pasos de a 2"
      ],
      "metadata": {
        "id": "rrtbwsfuDtMx"
      },
      "execution_count": null,
      "outputs": []
    },
    {
      "cell_type": "code",
      "source": [
        "np.zeros(4)\n",
        "\n",
        "#Devuelve un arreglo de 4 0s"
      ],
      "metadata": {
        "id": "hsLAKqnyDu4A"
      },
      "execution_count": null,
      "outputs": []
    },
    {
      "cell_type": "code",
      "source": [
        "np.ones(5)\n",
        "\n",
        "#Devuelve un arreglo de 5 1s"
      ],
      "metadata": {
        "id": "dfziXMHTDwzd"
      },
      "execution_count": null,
      "outputs": []
    },
    {
      "cell_type": "code",
      "source": [
        "np.linspace(0, 1, 4)\n",
        "\n",
        "#Devuelve un arreglo con 4 elementos del 0 al 1"
      ],
      "metadata": {
        "id": "Bbz4oSAPDywh"
      },
      "execution_count": null,
      "outputs": []
    },
    {
      "cell_type": "code",
      "source": [
        "#np.eye(1)\n",
        "\n",
        "#np.eye(2)\n",
        "\n",
        "np.eye(50)\n",
        "\n",
        "#Devuelve una matriz identidad de n filas y n columnas"
      ],
      "metadata": {
        "id": "d6FABVueD05T"
      },
      "execution_count": null,
      "outputs": []
    },
    {
      "cell_type": "code",
      "source": [
        "low=2\n",
        "high=100\n",
        "sample_size=10\n",
        "\n",
        "#np.random.rand(sample_size)\n",
        "#Devuelve una muestra de 5 elementos random entre el 0 y el 1, decimales\n",
        "\n",
        "#np.random.randn(sample_size)\n",
        "#Devuelve una muestra de 3 elementos random entre -2 y 2\n",
        "\n",
        "np.random.randint(low, high, sample_size)\n",
        "#Devuelve una muestra de 10 enteros >= que \"low\" y menores que \"high\""
      ],
      "metadata": {
        "id": "m-5sYP6vD3DV"
      },
      "execution_count": null,
      "outputs": []
    },
    {
      "cell_type": "code",
      "source": [
        "arr = np.array([0,1,2,3,4,5])\n",
        "\n",
        "arr.reshape(2,3)\n",
        "#Redimensiona el array a una matriz de 2 filas x 3 columnas"
      ],
      "metadata": {
        "id": "GRwIqfAdD49D"
      },
      "execution_count": null,
      "outputs": []
    },
    {
      "cell_type": "code",
      "source": [
        "#arr = np.array([0,1,2,3,4,5])\n",
        "\n",
        "#arr.shape\n",
        "#Devuelve la forma o dimensión del arreglo\n",
        "\n",
        "arr = arr.reshape(2,3)\n",
        "\n",
        "arr.shape\n",
        "#Devuelve la forma o dimensión después de modificarlo"
      ],
      "metadata": {
        "id": "2lBmJWvAD7Jj"
      },
      "execution_count": null,
      "outputs": []
    },
    {
      "cell_type": "code",
      "source": [
        "arr.reshape(2,3).shape\n",
        "#Hace lo mismo que el bloque anterior pero en una sola línea con el método \".shape\" después de redimensionarlo"
      ],
      "metadata": {
        "id": "or9vmGgND9Pc"
      },
      "execution_count": null,
      "outputs": []
    },
    {
      "cell_type": "code",
      "source": [
        "#MÁXIMOS Y MÍNIMOS\n",
        "\n",
        "simple_array = [1, 2, 3, 4]"
      ],
      "metadata": {
        "id": "3h28gpoaD_nz"
      },
      "execution_count": null,
      "outputs": []
    },
    {
      "cell_type": "code",
      "source": [
        "max(simple_array)\n",
        "#Para hallar el nmáximo"
      ],
      "metadata": {
        "id": "7Co4e-jAEBXa"
      },
      "execution_count": null,
      "outputs": []
    },
    {
      "cell_type": "code",
      "source": [
        "np.argmax(simple_array)\n",
        "#Para hallar el índice del máximo"
      ],
      "metadata": {
        "id": "SkBpmajgEDHd"
      },
      "execution_count": null,
      "outputs": []
    },
    {
      "cell_type": "code",
      "source": [
        "min(simple_array)\n",
        "#Para hallar el mínimo"
      ],
      "metadata": {
        "id": "vat1chvVEFOh"
      },
      "execution_count": null,
      "outputs": []
    },
    {
      "cell_type": "code",
      "source": [
        "np.argmin(simple_array)\n",
        "#Para hallar el índice del mínimo"
      ],
      "metadata": {
        "id": "8oK8fFQFEG_M"
      },
      "execution_count": null,
      "outputs": []
    },
    {
      "cell_type": "code",
      "source": [
        "arr = np.arange(4)\n",
        "#Crea un array de 4 elementos\n",
        "\n",
        "arr\n",
        "#Lo imprime"
      ],
      "metadata": {
        "id": "Hpdns5FIEI6t"
      },
      "execution_count": null,
      "outputs": []
    },
    {
      "cell_type": "code",
      "source": [
        "2 + arr\n",
        "#Devuele el array con cada elemento +2"
      ],
      "metadata": {
        "id": "_X1gb6RFEKzB"
      },
      "execution_count": null,
      "outputs": []
    },
    {
      "cell_type": "code",
      "source": [
        "arr + arr\n",
        "#Devuelve el array con cada elemento sumado entre sí por posición"
      ],
      "metadata": {
        "id": "u70Rws76EMve"
      },
      "execution_count": null,
      "outputs": []
    },
    {
      "cell_type": "code",
      "source": [
        "arr - 10\n",
        "#Devuelve el array con cada elemento -10"
      ],
      "metadata": {
        "id": "mFI__CPOEOkb"
      },
      "execution_count": null,
      "outputs": []
    },
    {
      "cell_type": "code",
      "source": [
        "arr - arr\n",
        "#Devuelve el array con cada elemento restado entre sí por posición"
      ],
      "metadata": {
        "id": "AlRwNJT-EQKt"
      },
      "execution_count": null,
      "outputs": []
    },
    {
      "cell_type": "code",
      "source": [
        "6 * arr\n",
        "#Devuelve el array con cada elemento *6"
      ],
      "metadata": {
        "id": "G46kDXIKER7G"
      },
      "execution_count": null,
      "outputs": []
    },
    {
      "cell_type": "code",
      "source": [
        "arr * arr\n",
        "#Devuelve el array con cada elemento multiplicado entre sí por posición"
      ],
      "metadata": {
        "id": "ROmnOL3IETzo"
      },
      "execution_count": null,
      "outputs": []
    },
    {
      "cell_type": "code",
      "source": [
        "arr / 2\n",
        "#Devuelve el array con cada elemento dividido entre 2"
      ],
      "metadata": {
        "id": "yKyv4BeGEVOH"
      },
      "execution_count": null,
      "outputs": []
    },
    {
      "cell_type": "code",
      "source": [
        "arr / arr\n",
        "#Devuelve el array con cada elemento dividido entre sí por posición\n",
        "#Si la división es no definidia, devuelve un \"nan\""
      ],
      "metadata": {
        "id": "XBTC4ikYEWuI"
      },
      "execution_count": null,
      "outputs": []
    },
    {
      "cell_type": "code",
      "source": [
        "np.sqrt(arr)\n",
        "#Devuelve el array con la raíz cuadrada de cada elemento"
      ],
      "metadata": {
        "id": "A_BfW0kFEY1L"
      },
      "execution_count": null,
      "outputs": []
    },
    {
      "cell_type": "code",
      "source": [
        "np.exp(arr)\n",
        "#Devuelve e ^ cada elemento del array"
      ],
      "metadata": {
        "id": "cmj_1u3-Ea0B"
      },
      "execution_count": null,
      "outputs": []
    },
    {
      "cell_type": "code",
      "source": [
        "np.sin(arr)\n",
        "#Devuelve el seno de cada elemento del array"
      ],
      "metadata": {
        "id": "QFp5S_4JEcWb"
      },
      "execution_count": null,
      "outputs": []
    },
    {
      "cell_type": "code",
      "source": [
        "np.cos(arr)\n",
        "#Devuelve el coseno de cada elemento del array"
      ],
      "metadata": {
        "id": "MUz5M80uEeL3"
      },
      "execution_count": null,
      "outputs": []
    },
    {
      "cell_type": "code",
      "source": [
        "np.log(arr)\n",
        "#Devuelve el logaritmo natural de cada elemento del array"
      ],
      "metadata": {
        "id": "_sJ12wJ_EgN3"
      },
      "execution_count": null,
      "outputs": []
    },
    {
      "cell_type": "code",
      "source": [
        "arr = np.random.rand(5)\n",
        "arr\n",
        "\n",
        "#Devuelve un arreglo con 5 elementos aleatorios entre 0 y 1"
      ],
      "metadata": {
        "id": "_DN9Ds5fEkVm"
      },
      "execution_count": null,
      "outputs": []
    },
    {
      "cell_type": "code",
      "source": [
        "arr = np.round(arr, 5)\n",
        "arr\n",
        "\n",
        "#Redondea cada elemento del array a n decimales"
      ],
      "metadata": {
        "id": "F1liujIOEmP6"
      },
      "execution_count": null,
      "outputs": []
    },
    {
      "cell_type": "code",
      "source": [
        "arr[0]\n",
        "#Devuelve el elemento en la posición n del array"
      ],
      "metadata": {
        "id": "wtzfyoWDEpFm"
      },
      "execution_count": null,
      "outputs": []
    },
    {
      "cell_type": "code",
      "source": [
        "arr[:]\n",
        "#Devuele el recorrido de todos los elementos del array"
      ],
      "metadata": {
        "id": "l2L07CYbEq3v"
      },
      "execution_count": null,
      "outputs": []
    },
    {
      "cell_type": "code",
      "source": [
        "arr[1:]\n",
        "#Devuelve el recorrido de todos los elementos del array a partir del elemento en posición 1"
      ],
      "metadata": {
        "id": "w3oQCbuYEvjz"
      },
      "execution_count": null,
      "outputs": []
    },
    {
      "cell_type": "code",
      "source": [
        "arr[1:4]\n",
        "#Devuelve el recorrido de todos los elementos del array a partir del elemento en posición 1 hasta el 4-1"
      ],
      "metadata": {
        "id": "Ljnafy39EyNi"
      },
      "execution_count": null,
      "outputs": []
    },
    {
      "cell_type": "code",
      "source": [
        "arr[:] = 0\n",
        "arr\n",
        "\n",
        "#Devuelve el array de 5 elementos con cada elemento con su valor modificado a 0"
      ],
      "metadata": {
        "id": "h6PmbUR4E0O0"
      },
      "execution_count": null,
      "outputs": []
    },
    {
      "cell_type": "code",
      "source": [
        "arr[2:5] = 0.5\n",
        "arr\n",
        "\n",
        "#Devuelve el array de 5 elementos con los elementos del 2 al 5 con sus valores modificados a 0.5\n",
        "#Ojo con el valor \"0.5\", debe llevar \".\" y no \",\""
      ],
      "metadata": {
        "id": "pqD1MghKE3yi"
      },
      "execution_count": null,
      "outputs": []
    },
    {
      "cell_type": "code",
      "source": [
        "new_array = np.array([6, 7, 8, 9])\n",
        "new_array\n",
        "\n",
        "second_new_array = new_array[0:2]\n",
        "second_new_array\n",
        "#Asigna el valor de los primeros 2 valores del array a \"second_new_array\"\n",
        "\n",
        "second_new_array[1] = 4\n",
        "second_new_array\n",
        "#Reasigna el valor del elemento en la posición 1 por 4"
      ],
      "metadata": {
        "id": "UmZQ9SrxE56w"
      },
      "execution_count": null,
      "outputs": []
    },
    {
      "cell_type": "code",
      "source": [
        "array_to_copy = np.array([1, 2, 3])\n",
        "array_to_copy\n",
        "\n",
        "copied_array = array_to_copy.copy()\n",
        "copied_array\n",
        "#Devuelve el array original copiado en \"copied_array\""
      ],
      "metadata": {
        "id": "w88m8J2FE9Xt"
      },
      "execution_count": null,
      "outputs": []
    },
    {
      "cell_type": "code",
      "source": [
        "copied_array[0] = 9\n",
        "#Reasigna a 9 el valor del elemento 0 en el array\n",
        "\n",
        "copied_array\n",
        "#Lo imprime\n",
        "\n",
        "array_to_copy\n",
        "#Devuelve el array antes de modificarlo"
      ],
      "metadata": {
        "id": "-_NfTQ05E_Sy"
      },
      "execution_count": null,
      "outputs": []
    },
    {
      "cell_type": "code",
      "source": [
        "mat = np.array([[5, 10, 15],[20, 25, 30],[35, 40, 45]])\n",
        "#Crea un arreglo de 3 elementos, cada elemento cuenta con 3 elementos más, por lo que es un arreglo 3x3\n",
        "\n",
        "mat.shape"
      ],
      "metadata": {
        "id": "Pkz4ZBR6FAzN"
      },
      "execution_count": null,
      "outputs": []
    },
    {
      "cell_type": "code",
      "source": [
        "mat[0]\n",
        "#Devuelve la posición 0 del array, esta corresponde a la fila 1"
      ],
      "metadata": {
        "id": "xXO1348YFD_M"
      },
      "execution_count": null,
      "outputs": []
    },
    {
      "cell_type": "code",
      "source": [
        "mat[0][-1]\n",
        "#Devuelve el último elemento de la primera fila del array"
      ],
      "metadata": {
        "id": "po9Qn6LAFJaW"
      },
      "execution_count": null,
      "outputs": []
    },
    {
      "cell_type": "code",
      "source": [
        "mat[1:][:2]\n",
        "#Devuelve el elemento 1 y 2 del array completos"
      ],
      "metadata": {
        "id": "Gq2zWTv9FLlG"
      },
      "execution_count": null,
      "outputs": []
    },
    {
      "cell_type": "code",
      "source": [
        "arr = np.array([0.69, 0.94, 0.66, 0.73, 0.83])\n",
        "#Crea un array con los elementos declarados\n",
        "\n",
        "arr > 0.7\n",
        "#Devuelve booleanos de la evaluación de la condición\n",
        "\n",
        "arr[arr > 0.7]\n",
        "#Devuelve solo los elementos que cumplen la condición"
      ],
      "metadata": {
        "id": "M06GStuAFNr-"
      },
      "execution_count": null,
      "outputs": []
    }
  ]
}